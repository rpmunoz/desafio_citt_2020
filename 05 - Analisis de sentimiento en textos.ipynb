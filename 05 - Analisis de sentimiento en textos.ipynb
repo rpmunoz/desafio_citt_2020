{
 "cells": [
  {
   "cell_type": "markdown",
   "metadata": {},
   "source": [
    "# Análisis de sentimiento usando sklearn y spacy\n",
    "\n",
    "**Autor:** Roberto Muñoz <br />\n",
    "**E-mail:** <rmunoz@uc.cl> <br />\n",
    "**Github:** <https://github.com/rpmunoz> <br />"
   ]
  },
  {
   "cell_type": "markdown",
   "metadata": {},
   "source": [
    "Instale la libreria spacy\n",
    "```\n",
    "pip install spacy\n",
    "```\n",
    "\n",
    "Descargue modelos pre-entrenados desde la web de spacy https://spacy.io/usage/models\n",
    "\n",
    "```\n",
    "python -m spacy download en_core_web_sm\n",
    "python -m spacy download es_core_news_sm\n",
    "```"
   ]
  },
  {
   "cell_type": "code",
   "execution_count": 1,
   "metadata": {},
   "outputs": [],
   "source": [
    "import os\n",
    "import spacy\n",
    "import pandas as pd\n",
    "import numpy as np\n",
    "import sklearn as sk\n",
    "import matplotlib.pyplot as plt\n",
    "import seaborn as sns\n",
    "\n",
    "plt.rcParams.update({'font.size': 16})\n",
    "pd.set_option('display.max_columns', None)"
   ]
  },
  {
   "cell_type": "code",
   "execution_count": 2,
   "metadata": {},
   "outputs": [],
   "source": [
    "dataDir='data'\n",
    "resultsDir='results'\n",
    "\n",
    "if not os.path.exists(resultsDir):\n",
    "    os.mkdir(resultsDir)"
   ]
  },
  {
   "cell_type": "code",
   "execution_count": 34,
   "metadata": {},
   "outputs": [
    {
     "data": {
      "text/html": [
       "<div>\n",
       "<style scoped>\n",
       "    .dataframe tbody tr th:only-of-type {\n",
       "        vertical-align: middle;\n",
       "    }\n",
       "\n",
       "    .dataframe tbody tr th {\n",
       "        vertical-align: top;\n",
       "    }\n",
       "\n",
       "    .dataframe thead th {\n",
       "        text-align: right;\n",
       "    }\n",
       "</style>\n",
       "<table border=\"1\" class=\"dataframe\">\n",
       "  <thead>\n",
       "    <tr style=\"text-align: right;\">\n",
       "      <th></th>\n",
       "      <th>review</th>\n",
       "      <th>valoracion</th>\n",
       "    </tr>\n",
       "  </thead>\n",
       "  <tbody>\n",
       "    <tr>\n",
       "      <th>0</th>\n",
       "      <td>films adapted from comic books have had plent...</td>\n",
       "      <td>Positiva</td>\n",
       "    </tr>\n",
       "    <tr>\n",
       "      <th>1</th>\n",
       "      <td>every now and then a movie comes along from a...</td>\n",
       "      <td>Positiva</td>\n",
       "    </tr>\n",
       "    <tr>\n",
       "      <th>2</th>\n",
       "      <td>you ve got mail works alot better than it des...</td>\n",
       "      <td>Positiva</td>\n",
       "    </tr>\n",
       "    <tr>\n",
       "      <th>3</th>\n",
       "      <td>jaws   is a rare film that grabs your atte...</td>\n",
       "      <td>Positiva</td>\n",
       "    </tr>\n",
       "    <tr>\n",
       "      <th>4</th>\n",
       "      <td>moviemaking is a lot like being the general m...</td>\n",
       "      <td>Positiva</td>\n",
       "    </tr>\n",
       "  </tbody>\n",
       "</table>\n",
       "</div>"
      ],
      "text/plain": [
       "                                              review valoracion\n",
       "0   films adapted from comic books have had plent...   Positiva\n",
       "1   every now and then a movie comes along from a...   Positiva\n",
       "2   you ve got mail works alot better than it des...   Positiva\n",
       "3      jaws   is a rare film that grabs your atte...   Positiva\n",
       "4   moviemaking is a lot like being the general m...   Positiva"
      ]
     },
     "execution_count": 34,
     "metadata": {},
     "output_type": "execute_result"
    }
   ],
   "source": [
    "dataFile='Reviews IMDB-Movie-Data.csv'\n",
    "dataFile=os.path.join(dataDir, dataFile)\n",
    "\n",
    "dataDF=pd.read_csv(dataFile, header=0)\n",
    "dataDF.head()"
   ]
  },
  {
   "cell_type": "code",
   "execution_count": 35,
   "metadata": {},
   "outputs": [
    {
     "data": {
      "text/html": [
       "<div>\n",
       "<style scoped>\n",
       "    .dataframe tbody tr th:only-of-type {\n",
       "        vertical-align: middle;\n",
       "    }\n",
       "\n",
       "    .dataframe tbody tr th {\n",
       "        vertical-align: top;\n",
       "    }\n",
       "\n",
       "    .dataframe thead th {\n",
       "        text-align: right;\n",
       "    }\n",
       "</style>\n",
       "<table border=\"1\" class=\"dataframe\">\n",
       "  <thead>\n",
       "    <tr style=\"text-align: right;\">\n",
       "      <th></th>\n",
       "      <th>review</th>\n",
       "    </tr>\n",
       "    <tr>\n",
       "      <th>valoracion</th>\n",
       "      <th></th>\n",
       "    </tr>\n",
       "  </thead>\n",
       "  <tbody>\n",
       "    <tr>\n",
       "      <th>Negativa</th>\n",
       "      <td>1000</td>\n",
       "    </tr>\n",
       "    <tr>\n",
       "      <th>Positiva</th>\n",
       "      <td>1000</td>\n",
       "    </tr>\n",
       "  </tbody>\n",
       "</table>\n",
       "</div>"
      ],
      "text/plain": [
       "            review\n",
       "valoracion        \n",
       "Negativa      1000\n",
       "Positiva      1000"
      ]
     },
     "execution_count": 35,
     "metadata": {},
     "output_type": "execute_result"
    }
   ],
   "source": [
    "dataDF.groupby('valoracion').count()"
   ]
  },
  {
   "cell_type": "code",
   "execution_count": 21,
   "metadata": {},
   "outputs": [
    {
     "name": "stdout",
     "output_type": "stream",
     "text": [
      "Grupo con valoracion: Negativa\n",
      "\n",
      "***  plot   two teen couples go to a church party   drink and then drive    they get into an accident    one of the guys dies   but his girlfriend continues to see him in her life   and has nightmares    what s the deal    watch the movie and   sorta   find out        critique   a mind fuck movie for the teen generation that touches on a very cool idea   but presents it in a very bad package    which is what makes this review an even harder one to write   since i generally applaud films which attempt to break the mold   mess with your head and such   lost highway & memento     but there are good and bad ways of making all types of films   and these folks just didn t snag this one correctly    they seem to have taken this pretty neat concept   but executed it terribly    so what are the problems with the movie    well   its main problem is that it s simply too jumbled    it starts off   normal   but then downshifts into this   fantasy   world in which you   as an audience member   have no idea what s going on    there are dreams   there are characters coming back from the dead   there are others who look like the dead   there are strange apparitions   there are disappearances   there are a looooot of chase scenes   there are tons of weird things that happen   and most of it is simply not explained    now i personally don t mind trying to unravel a film every now and then   but when all it does is give me the same clue over and over again   i get kind of fed up after a while   which is this film s biggest problem    it s obviously got this big secret to hide   but it seems to want to hide it completely until its final five minutes    and do they make things entertaining   thrilling or even engaging   in the meantime    not really    the sad part is that the arrow and i both dig on flicks like this   so we actually figured most of it out by the half way point   so all of the strangeness after that did start to make a little bit of sense   but it still didn t the make the film all that more entertaining    i guess the bottom line with movies like this is that you should always make sure that the audience is   into it   even before they are given the secret password to enter your world of understanding    i mean   showing melissa sagemiller running away from visions for about 20 minutes throughout the movie is just plain lazy ! !  okay   we get it       there  are people chasing her and we don t know who they are    do we really need to see it over and over again    how about giving us different scenes offering further insight into all of the strangeness going down in the movie    apparently   the studio took this film away from its director and chopped it up themselves   and it shows    there might ve been a pretty decent teen mind fuck movie in here somewhere   but i guess   the suits   decided that turning it into a music video with little edge   would make more sense    the actors are pretty good for the most part   although wes bentley just seemed to be playing the exact same character that he did in american beauty   only in a new neighborhood    but my biggest kudos go out to sagemiller   who holds her own throughout the entire film   and actually has you feeling her character s unraveling    overall   the film doesn t stick because it doesn t entertain   it s confusing   it rarely excites and it feels pretty redundant for most of its runtime   despite a pretty cool ending and explanation to all of the craziness that came before it    oh   and by the way   this is not a horror or teen slasher flick       it s  just packaged to look that way because someone is apparently assuming that the genre is still hot with the kids    it also wrapped production two years ago and has been sitting on the shelves ever since    whatever       skip  it !  where s joblo coming from    a nightmare of elm street 3   7/10     blair witch 2   7/10     the crow   9/10     the crow   salvation   4/10     lost highway   10/10     memento   10/10     the others   9/10     stir of echoes   8/10    \n",
      "\n",
      "***  the happy bastard s quick movie review  damn that y2k bug    it s got a head start in this movie starring jamie lee curtis and another baldwin brother   william this time   in a story regarding a crew of a tugboat that comes across a deserted russian tech ship that has a strangeness to it when they kick the power back on    little do they know the power within        going for the gore and bringing on a few action sequences here and there   virus still feels very empty   like a movie going for all flash and no substance    we don t know why the crew was really out in the middle of nowhere   we don t know the origin of what took over the ship   just that a big pink flashy thing hit the mir     and   of course   we don t know why donald sutherland is stumbling around drunkenly throughout    here   it s just   hey   let s chase these people around with some robots      the acting is below average   even from the likes of curtis    you re more likely to get a kick out of her work in halloween h20    sutherland is wasted and baldwin   well   he s acting like a baldwin   of course    the real star here are stan winston s robot design   some schnazzy cgi   and the occasional good gore shot   like picking into someone s brain    so   if robots and body parts really turn you on   here s your movie    otherwise   it s pretty much a sunken ship of a movie    \n",
      "\n",
      "***  it is movies like these that make a jaded movie viewer thankful for the invention of the timex indiglo watch    based on the late 1960 s television show by the same name   the mod squad tells the tale of three reformed criminals under the employ of the police to go undercover    however   things go wrong as evidence gets stolen and they are immediately under suspicion    of course   the ads make it seem like so much more    quick cuts   cool music   claire dane s nice hair and cute outfits   car chases   stuff blowing up   and the like    sounds like a cool movie   does it not    after the first fifteen minutes   it quickly becomes apparent that it is not    the mod squad is certainly a slick looking production   complete with nice hair and costumes   but that simply isn t enough    the film is best described as a cross between an hour long cop show and a music video   both stretched out into the span of an hour and a half    and with it comes every single clich      it doesn t really matter that the film is based on a television show   as most of the plot elements have been recycled from everything we ve already seen    the characters and acting is nothing spectacular   sometimes even bordering on wooden    claire danes and omar epps deliver their lines as if they are bored   which really transfers onto the audience    the only one to escape relatively unscathed is giovanni ribisi   who plays the resident crazy man   ultimately being the only thing worth watching    unfortunately   even he s not enough to save this convoluted mess   as all the characters don t do much apart from occupying screen time    with the young cast   cool clothes   nice hair   and hip soundtrack   it appears that the film is geared towards the teenage mindset    despite an american  r  rating   which the content does not justify     the film is way too juvenile for the older mindset    information on the characters is literally spoon fed to the audience   would it be that hard to show us instead of telling us       dialogue is poorly written   and the plot is extremely predictable    the way the film progresses   you likely won t even care if the heroes are in any jeopardy   because you ll know they aren t    basing the show on a 1960 s television show that nobody remembers is of questionable wisdom   especially when one considers the target audience and the fact that the number of memorable films based on television shows can be counted on one hand   even one that s missing a finger or two      the number of times that i checked my watch   six   is a clear indication that this film is not one of them    it is clear that the film is nothing more than an attempt to cash in on the teenage spending dollar   judging from the rash of really awful teen flicks that we ve been seeing as of late    avoid this film at all costs    \n",
      "\n",
      "--------------------\n",
      "Grupo con valoracion: Positiva\n",
      "\n",
      "***  films adapted from comic books have had plenty of success   whether they re about superheroes   batman   superman   spawn     or geared toward kids   casper   or the arthouse crowd   ghost world     but there s never really been a comic book like from hell before    for starters   it was created by alan moore   and eddie campbell     who brought the medium to a whole new level in the mid  80s with a 12 part series called the watchmen    to say moore and campbell thoroughly researched the subject of jack the ripper would be like saying michael jackson is starting to look a little odd    the book   or   graphic novel     if you will   is over 500 pages long and includes nearly 30 more that consist of nothing but footnotes    in other words   don t dismiss this film because of its source    if you can get past the whole comic book thing   you might find another stumbling block in from hell s directors   albert and allen hughes    getting the hughes brothers to direct this seems almost as ludicrous as casting carrot top in   well   anything   but riddle me this   who better to direct a film that s set in the ghetto and features really violent street crime than the mad geniuses behind menace ii society    the ghetto in question is   of course   whitechapel in 1888 london s east end    it s a filthy   sooty place where the whores   called   unfortunates     are starting to get a little nervous about this mysterious psychopath who has been carving through their profession with surgical precision    when the first stiff turns up   copper peter godley   robbie coltrane   the world is not enough   calls in inspector frederick abberline   johnny depp   blow   to crack the case    abberline   a widower   has prophetic dreams he unsuccessfully tries to quell with copious amounts of absinthe and opium    upon arriving in whitechapel   he befriends an unfortunate named mary kelly   heather graham   say it isn t so   and proceeds to investigate the horribly gruesome crimes that even the police surgeon can t stomach    i don t think anyone needs to be briefed on jack the ripper   so i won t go into the particulars here   other than to say moore and campbell have a unique and interesting theory about both the identity of the killer and the reasons he chooses to slay    in the comic   they don t bother cloaking the identity of the ripper   but screenwriters terry hayes   vertical limit   and rafael yglesias   les mis   rables   do a good job of keeping him hidden from viewers until the very end    it s funny to watch the locals blindly point the finger of blame at jews and indians because   after all   an englishman could never be capable of committing such ghastly acts    and from hell s ending had me whistling the stonecutters song from the simpsons for days     who holds back the electric car/who made steve guttenberg a star          don t worry   it ll all make sense when you see it    now onto from hell s appearance   it s certainly dark and bleak enough   and it s surprising to see how much more it looks like a tim burton film than planet of the apes did   at times   it seems like sleepy hollow 2      the print i saw wasn t completely finished   both color and music had not been finalized   so no comments about marilyn manson     but cinematographer peter deming   don t say a word   ably captures the dreariness of victorian era london and helped make the flashy killing scenes remind me of the crazy flashbacks in twin peaks   even though the violence in the film pales in comparison to that in the black and white comic    oscar winner martin childs    shakespeare in love   production design turns the original prague surroundings into one creepy place    even the acting in from hell is solid   with the dreamy depp turning in a typically strong performance and deftly handling a british accent    ians holm   joe gould s secret   and richardson   102 dalmatians   log in great supporting roles   but the big surprise here is graham    i cringed the first time she opened her mouth   imagining her attempt at an irish accent   but it actually wasn t half bad    the film   however   is all good    2   00   r for strong violence/gore   sexuality   language and drug content  \n",
      "\n",
      "***  every now and then a movie comes along from a suspect studio   with every indication that it will be a stinker   and to everybody s surprise   perhaps even the studio   the film becomes a critical darling    mtv films   election   a high school comedy starring matthew broderick and reese witherspoon   is a current example    did anybody know this film existed a week before it opened    the plot is deceptively simple    george washington carver high school is having student elections    tracy flick   reese witherspoon   is an over achiever with her hand raised at nearly every question   way   way   high    mr     m     matthew broderick     sick of the megalomaniac student   encourages paul   a popular but slow jock to run    and paul s nihilistic sister jumps in the race as well   for personal reasons    the dark side of such sleeper success is that   because expectations were so low going in   the fact that this was quality stuff made the reviews even more enthusiastic than they have any right to be    you can t help going in with the baggage of glowing reviews   which is in contrast to the negative baggage that the reviewers were likely to have     election   a good film   does not live up to its hype    what makes  election  so disappointing is that it contains significant plot details lifted directly from  rushmore    released a few months earlier    the similarities are staggering    tracy flick    election    is the president of an extraordinary number of clubs   and is involved with the school play    max fischer    rushmore    is the president of an extraordinary number of clubs   and is involved with the school play    the most significant tension of  election  is the potential relationship between a teacher and his student    the most significant tension of  rushmore  is the potential relationship between a teacher and his student    tracy flick is from a single parent home   which has contributed to her drive    max fischer is from a single parent home   which has contributed to his drive    the male bumbling adult in  election    matthew broderick   pursues an extramarital affair   gets caught   and his whole life is ruined    he even gets a bee sting    the male bumbling adult in  rushmore    bill murray   pursues an extramarital affair   gets caught   and his whole life is ruined    he gets several bee stings    and so on    what happened    how is it that an individual screenplay    rushmore    and a novel    election    contain so many significant plot points   and yet both films were probably not even aware of each other   made from two different studios   from a genre   the high school geeks revenge movie   that hadn t been fully formed yet    even so   the strengths of  election  rely upon its fantastic performances from broderick   witherspoon   and newcomer jessica campbell   as paul s anti social sister   tammy    broderick here is playing the mr   rooney role from  ferris bueller    and he seems to be having the most fun he s had since then    witherspoon is a revelation    it s early in the year   it s a comedy   and teenagers have little clout   but for my money   witherspoon deserves an oscar nomination    and once campbell s character gets going   like in her fantastic speech in the gymnasium   then you re won over    one thing that s been bothering me since i ve seen it    there is an extraordinary amount of sexuality in this film    i suppose that   coming from mtv films   i should expect no less        but the film starts off light and airy   like a sitcom    as the screws tighten   and the tensions mount   alexander payne decides to add elements that   frankly   distract from the story    it is bad enough that mr   m doesn t like tracy s determination to win at all costs   but did they have to throw in the student/teacher relationship    even so   there s no logical reason why mr   m has an affair when he does    there s a lot to like in  election    but the plot similarities to  rushmore    and the tonal nosedive it takes as it gets explicitly sex driven   mark this as a disappointment    \n",
      "\n",
      "***  you ve got mail works alot better than it deserves to    in order to make the film a success   all they had to do was cast two extremely popular and attractive stars   have them share the screen for about two hours and then collect the profits    no real acting was involved and there is not an original or inventive bone in it s body   it s basically a complete re shoot of the shop around the corner   only adding a few modern twists      essentially   it goes against and defies all concepts of good contemporary filmmaking    it s overly sentimental and at times terribly mushy   not to mention very manipulative    but oh   how enjoyable that manipulation is    but there must be something other than the casting and manipulation that makes the movie work as well as it does   because i absolutely hated the previous ryan/hanks teaming   sleepless in seattle    it couldn t have been the directing   because both films were helmed by the same woman    i haven t quite yet figured out what i liked so much about you ve got mail   but then again   is that really important    if you like something so much   why even question it    again   the storyline is as cliched as they come    tom hanks plays joe fox   the insanely likeable owner of a discount book chain and meg ryan plays kathleen kelley   the even more insanely likeable proprietor of a family run children s book shop called   in a nice homage   the shop around the corner    fox and kelley soon become bitter rivals because the new fox books store is opening up right across the block from the small business    little do they know   they are already in love with each other over the internet   only neither party knows the other person s true identity    the rest of the story isn t important because all it does is serve as a mere backdrop for the two stars to share the screen    sure   there are some mildly interesting subplots   but they all fail in comparison to the utter cuteness of the main relationship    all of this   of course   leads up to the predictable climax    but as foreseeable as the ending is   it s so damn cute and well done that i doubt any movie in the entire year contains a scene the evokes as much pure joy as this part does    when ryan discovers the true identity of her online love   i was filled with such   for lack of a better word   happiness that for the first time all year   i actually left the theater smiling    \n",
      "\n",
      "--------------------\n"
     ]
    }
   ],
   "source": [
    "for name, group in dataDF.groupby('valoracion'):\n",
    "    print(\"Grupo con valoracion: {}\\n\".format(name))\n",
    "    for idx, row in group.iloc[0:3].iterrows():\n",
    "        print(\"*** {}\\n\".format(row['contenido']))\n",
    "        \n",
    "    print(\"-\"*20)"
   ]
  },
  {
   "cell_type": "code",
   "execution_count": null,
   "metadata": {},
   "outputs": [],
   "source": []
  },
  {
   "cell_type": "code",
   "execution_count": 9,
   "metadata": {},
   "outputs": [],
   "source": [
    "# Splitting Data Set\n",
    "from sklearn.model_selection import train_test_split"
   ]
  },
  {
   "cell_type": "code",
   "execution_count": null,
   "metadata": {},
   "outputs": [],
   "source": [
    "# Features and Labels\n",
    "X = dataDF['contenido']\n",
    "ylabels = dataDF['Label']\n",
    "\n",
    "X_train, X_test, y_train, y_test = train_test_split(X, ylabels, test_size=0.2, random_state=42)"
   ]
  },
  {
   "cell_type": "markdown",
   "metadata": {},
   "source": [
    "## Preprocessing the data using Spacy and Machine learning model training using sklearn\n",
    "\n",
    "In this stage, Spacy package of python is used to lemmatize and remove stop words from the obtained dataset."
   ]
  },
  {
   "cell_type": "code",
   "execution_count": 7,
   "metadata": {},
   "outputs": [
    {
     "name": "stdout",
     "output_type": "stream",
     "text": [
      "Lista de stop words o palabras reservadas\n",
      "\n",
      "['perhaps', 'whereas', 'towards', 'amount', 'least', 'say', 'we', 'herself', 'and', 'sixty', 'ever', 'may', 'often', 'along', 'cannot', 'nobody', 'must', 'whereby', 'n’t', 'latter', 'neither', 'own', 'see', 'nevertheless', 'herein', 'why', 'our', 'n‘t', 'whose', 'with', 'four', 'against', 'latterly', 'seem', 'across', \"'ll\", 'go', '’d', 'ca', 'two', 'already', 'her', 'side', 'seems', 'please', 'since', 'anywhere', 'between', 'beside', 'its', 'from', 'hereby', 'otherwise', 'thus', 'they', 'fifteen', 'enough', 'became', 'there', '‘d', 'somewhere', 'three', 'him', 'might', 'no', 'on', 'unless', 'mostly', 'those', 'sometime', 'what', 'anything', 'an', 'nothing', 'call', 'was', 'never', 're', '’m', 'thereafter', 'done', 'elsewhere', 'still', 'fifty', 'however', 'forty', 'through', 'per', 'eleven', 'former', 'part', 'six', 'while', 'something', 'around', 'can', 'to', 'his', 'ten', 'doing', 'else', 'then', 'much', 'rather', 'now', 'further', 'are', 'thereupon', 'do', 'noone', 'also', 'therein', 'well', 'am', 'thereby', 'ourselves', 'next', 'among', 'within', 'thence', 'after', 'because', 'all', 'third', 'in', 'serious', 'which', 'anyway', 'onto', 'such', 'mine', 'becomes', \"n't\", 'beyond', 'used', 'show', 'most', 'at', 'becoming', 'just', 'for', 'together', 'whole', 'alone', 'namely', 'before', 'hers', 'nine', 'over', 'has', 'themselves', 'into', 'been', 'up', 'someone', 'but', '’ve', \"'m\", 'amongst', 'twelve', 'whither', 'whereupon', 'various', 'anyhow', 'yourself', 'name', 'who', \"'ve\", 'have', 'whom', 'yet', 'does', 'yourselves', 'hereafter', 'again', 'them', 'besides', 'everyone', 'below', 'that', 'although', 'five', 'had', 'whereafter', 'behind', 'seemed', 'could', 'using', 'empty', 'one', 'down', 'only', 'without', 'everywhere', 'how', 'due', 'hereupon', 'first', 'some', 'back', 'get', 'front', 'thru', \"'s\", '’ll', 'these', 'the', 'twenty', 'nowhere', 'as', 'not', 'beforehand', '‘s', 'anyone', 'until', 'toward', 'therefore', 'whatever', 'top', 'wherein', 'be', 'less', 'bottom', 'above', '‘m', 'she', '‘re', 'always', 'few', 'quite', 'he', 'even', 'almost', 'did', 'keep', 'i', 'should', 'me', 'eight', 'give', 'your', 'very', 'take', 'somehow', 'indeed', 'others', 'formerly', 'their', 'both', 'during', 'really', 'will', 'though', 'every', 'you', 'except', 'under', 'hence', 'any', 'move', 'it', 'made', 'moreover', 'when', 'so', 'via', 'if', 'were', 'being', '’s', 'whence', 'upon', 'or', 'yours', 'many', 'once', \"'d\", 'full', 'itself', 'other', 'ours', 'everything', 'nor', 'more', 'us', 'put', 'myself', '‘ll', 'throughout', 'either', 'whether', 'off', 'is', 'a', 'this', 'would', 'each', 'several', 'hundred', 'whoever', 'regarding', 'afterwards', \"'re\", 'meanwhile', 'here', 'become', 'none', 'than', 'whenever', 'another', 'my', 'make', 'seeming', 'wherever', 'out', '’re', 'too', 'himself', 'same', 'about', 'last', 'where', 'sometimes', 'by', 'of', '‘ve']\n"
     ]
    }
   ],
   "source": [
    "import spacy\n",
    "from  spacy.lang.en.stop_words import STOP_WORDS\n",
    "nlp = spacy.load('en_core_web_sm')\n",
    "\n",
    "# To build a list of stop words for filtering\n",
    "stopwords = list(STOP_WORDS)\n",
    "print(\"Lista de stop words o palabras reservadas\\n\")\n",
    "print(stopwords)"
   ]
  },
  {
   "cell_type": "code",
   "execution_count": 8,
   "metadata": {},
   "outputs": [],
   "source": [
    "import string\n",
    "from spacy.lang.en import English\n",
    "\n",
    "punctuations = string.punctuation\n",
    "# Creating a Spacy Parser\n",
    "parser = English()"
   ]
  },
  {
   "cell_type": "code",
   "execution_count": null,
   "metadata": {},
   "outputs": [],
   "source": []
  }
 ],
 "metadata": {
  "kernelspec": {
   "display_name": "DUOC CITT",
   "language": "python",
   "name": "citt"
  },
  "language_info": {
   "codemirror_mode": {
    "name": "ipython",
    "version": 3
   },
   "file_extension": ".py",
   "mimetype": "text/x-python",
   "name": "python",
   "nbconvert_exporter": "python",
   "pygments_lexer": "ipython3",
   "version": "3.7.9"
  }
 },
 "nbformat": 4,
 "nbformat_minor": 4
}
